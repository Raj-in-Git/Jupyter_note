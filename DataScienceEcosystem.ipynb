{
 "cells": [
  {
   "cell_type": "markdown",
   "id": "8059caa6",
   "metadata": {},
   "source": [
    "# Data Science Tools and Ecosystem"
   ]
  },
  {
   "cell_type": "markdown",
   "id": "9d6cf1f3",
   "metadata": {},
   "source": [
    "In this notebook, Data Science Tools and Ecosystem are summarized."
   ]
  },
  {
   "cell_type": "markdown",
   "id": "84af52a8",
   "metadata": {},
   "source": [
    "<b>Objectives</b>:\n",
    "<ol>\n",
    "1.List popular languages for Data Science<br>\n",
    "2.List of Propular libraries used in Data Scientists<br>\n",
    "3.Operation using JUPYTER Notebook   \n",
    "</ol>    "
   ]
  },
  {
   "cell_type": "markdown",
   "id": "75064922",
   "metadata": {},
   "source": [
    "Some of the popular languages that Data Scientists use are:\n",
    "<ol>\n",
    "1.Python <br>\n",
    "2.R <br>\n",
    "3.SQL</ol>"
   ]
  },
  {
   "cell_type": "markdown",
   "id": "40f5716a",
   "metadata": {},
   "source": [
    "Some of the commonly used libraries used by Data Scientists include:\n",
    "<ol>\n",
    "1.Pandas <br>\n",
    "2.MatPlotlib <br>\n",
    "3.NumPy</ol>"
   ]
  },
  {
   "cell_type": "markdown",
   "id": "a1be0699",
   "metadata": {},
   "source": [
    "|Data Science Tools|\n",
    "|------------------|\n",
    "|IBM Watson Studio|\n",
    "|  |\n",
    "|  |"
   ]
  },
  {
   "cell_type": "markdown",
   "id": "255c8159",
   "metadata": {},
   "source": [
    "### Below are a few examples of evaluating arithmetic expressions in Python"
   ]
  },
  {
   "cell_type": "code",
   "execution_count": 3,
   "id": "9edd30ff",
   "metadata": {},
   "outputs": [
    {
     "name": "stdout",
     "output_type": "stream",
     "text": [
      "17\n"
     ]
    }
   ],
   "source": [
    "x=(3*4)+5    # This a simple arithmetic expression to mutiply then add integers\n",
    "print(x)"
   ]
  },
  {
   "cell_type": "code",
   "execution_count": 7,
   "id": "5cafea45",
   "metadata": {},
   "outputs": [
    {
     "name": "stdout",
     "output_type": "stream",
     "text": [
      "Enter Minutes200\n",
      "hours are: 3\n"
     ]
    }
   ],
   "source": [
    "minutes = input(\"Enter Minutes\")\n",
    "hours = int(minutes)//60     #This will convert 200 minutes to hours by diving by 60\n",
    "print(\"hours are: \" + str(hours) )"
   ]
  },
  {
   "cell_type": "markdown",
   "id": "8e3b2706",
   "metadata": {},
   "source": [
    "<a href=\"https://github.com/Raj-in-Git/Jupyter_note\">Git Hub Repo</a>"
   ]
  },
  {
   "cell_type": "markdown",
   "id": "2ff6ff2d",
   "metadata": {},
   "source": [
    "Author\n",
    "<h2>Rajesh</h2>"
   ]
  }
 ],
 "metadata": {
  "kernelspec": {
   "display_name": "Python 3 (ipykernel)",
   "language": "python",
   "name": "python3"
  },
  "language_info": {
   "codemirror_mode": {
    "name": "ipython",
    "version": 3
   },
   "file_extension": ".py",
   "mimetype": "text/x-python",
   "name": "python",
   "nbconvert_exporter": "python",
   "pygments_lexer": "ipython3",
   "version": "3.9.13"
  }
 },
 "nbformat": 4,
 "nbformat_minor": 5
}
